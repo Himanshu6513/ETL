{
 "cells": [
  {
   "cell_type": "code",
   "execution_count": 1,
   "metadata": {},
   "outputs": [],
   "source": [
    "#Getting the image to be read through os liberies and adjusting the contrast for the images to be read\n",
    "import cv2\n",
    "import numpy as np\n",
    "import os\n",
    "import pandas as pd\n",
    "filelist=[]\n",
    "filelist_modified=[]\n",
    "filelist=[file for file in os.listdir() if (file.endswith('.png') and file.startswith('Page') )]\n",
    "for file in filelist:\n",
    "    img=cv2.imread(file)\n",
    "    increase=np.ones(img.shape,dtype='uint8')*60\n",
    "    img_mod=cv2.add(img,increase)\n",
    "    mod_file=file.split('.')[0]+'_modified.png'\n",
    "    filelist_modified.append(mod_file)\n",
    "    cv2.imwrite(mod_file,img_mod)\n",
    "    cv2.destroyAllWindows()"
   ]
  },
  {
   "cell_type": "code",
   "execution_count": 4,
   "metadata": {},
   "outputs": [],
   "source": [
    "# List of contrast adjusted file to be read\n",
    "filelist_modified"
   ]
  },
  {
   "cell_type": "code",
   "execution_count": 11,
   "metadata": {},
   "outputs": [],
   "source": [
    "#Reading image data using pytesserct and storing data like filename, lineno, sentence in a dataframe\n",
    "from PIL import Image\n",
    "import pytesseract as tess\n",
    "final_list=[]\n",
    "tess.pytesseract.tesseract_cmd=r'C:\\Program Files\\Tesseract-OCR\\tesseract.exe'\n",
    "for file in filelist_modified:\n",
    "    counter=1\n",
    "    img=Image.open(file)\n",
    "    image_string=tess.image_to_string(img)\n",
    "    image_list=image_string.split('\\n')\n",
    "    image_list.pop()\n",
    "    for line in image_list:\n",
    "        line=line.strip()\n",
    "        if (line!=''):\n",
    "            row_list=[]\n",
    "            row_list.append(file.split('_')[0])\n",
    "            row_list.append(counter)\n",
    "            counter=counter+1\n",
    "            row_list.append(line)\n",
    "            final_list.append(row_list)\n",
    "        else:\n",
    "            continue\n",
    "#Creating dataframe to store the image data with columns like filename, lineNo, Sentence from final_list\n",
    "df = pd.DataFrame(final_list,columns = ['Filename','LineNo.','Sentence'])       \n",
    "resultframe=df.set_index('Filename')"
   ]
  },
  {
   "cell_type": "code",
   "execution_count": 13,
   "metadata": {},
   "outputs": [
    {
     "data": {
      "text/html": [
       "<div>\n",
       "<style scoped>\n",
       "    .dataframe tbody tr th:only-of-type {\n",
       "        vertical-align: middle;\n",
       "    }\n",
       "\n",
       "    .dataframe tbody tr th {\n",
       "        vertical-align: top;\n",
       "    }\n",
       "\n",
       "    .dataframe thead th {\n",
       "        text-align: right;\n",
       "    }\n",
       "</style>\n",
       "<table border=\"1\" class=\"dataframe\">\n",
       "  <thead>\n",
       "    <tr style=\"text-align: right;\">\n",
       "      <th></th>\n",
       "      <th>LineNo.</th>\n",
       "      <th>Sentence</th>\n",
       "    </tr>\n",
       "    <tr>\n",
       "      <th>Filename</th>\n",
       "      <th></th>\n",
       "      <th></th>\n",
       "    </tr>\n",
       "  </thead>\n",
       "  <tbody>\n",
       "    <tr>\n",
       "      <th>Page-1</th>\n",
       "      <td>1</td>\n",
       "      <td>UHID: AGHL.0000265795 ~ AH - QF - WS - 14</td>\n",
       "    </tr>\n",
       "    <tr>\n",
       "      <th>Page-1</th>\n",
       "      <td>2</td>\n",
       "      <td>A</td>\n",
       "    </tr>\n",
       "    <tr>\n",
       "      <th>Page-1</th>\n",
       "      <td>3</td>\n",
       "      <td>Apollo</td>\n",
       "    </tr>\n",
       "    <tr>\n",
       "      <th>Page-1</th>\n",
       "      <td>4</td>\n",
       "      <td>Gleneagles HOSPITALS</td>\n",
       "    </tr>\n",
       "    <tr>\n",
       "      <th>Page-1</th>\n",
       "      <td>5</td>\n",
       "      <td>KOLKATA</td>\n",
       "    </tr>\n",
       "  </tbody>\n",
       "</table>\n",
       "</div>"
      ],
      "text/plain": [
       "          LineNo.                                   Sentence\n",
       "Filename                                                    \n",
       "Page-1          1  UHID: AGHL.0000265795 ~ AH - QF - WS - 14\n",
       "Page-1          2                                          A\n",
       "Page-1          3                                     Apollo\n",
       "Page-1          4                       Gleneagles HOSPITALS\n",
       "Page-1          5                                    KOLKATA"
      ]
     },
     "execution_count": 13,
     "metadata": {},
     "output_type": "execute_result"
    }
   ],
   "source": [
    "#Result dataframe with Filename as index \n",
    "resultframe.head()"
   ]
  },
  {
   "cell_type": "code",
   "execution_count": 16,
   "metadata": {},
   "outputs": [],
   "source": [
    "#Writing data frame to excel\n",
    "from pandas import ExcelWriter\n",
    "writer = ExcelWriter('image_data.xlsx')\n",
    "resultframe.to_excel(writer,'Sheet1')\n",
    "writer.save()"
   ]
  },
  {
   "cell_type": "code",
   "execution_count": 1,
   "metadata": {},
   "outputs": [
    {
     "ename": "UnidentifiedImageError",
     "evalue": "cannot identify image file 'LOR_Sneh Anand.pdf'",
     "output_type": "error",
     "traceback": [
      "\u001b[1;31m---------------------------------------------------------------------------\u001b[0m",
      "\u001b[1;31mUnidentifiedImageError\u001b[0m                    Traceback (most recent call last)",
      "\u001b[1;32m<ipython-input-1-d1eb8d9e084b>\u001b[0m in \u001b[0;36m<module>\u001b[1;34m\u001b[0m\n\u001b[0;32m      3\u001b[0m \u001b[0mfile\u001b[0m\u001b[1;33m=\u001b[0m\u001b[1;34m'LOR_Sneh Anand.pdf'\u001b[0m\u001b[1;33m\u001b[0m\u001b[1;33m\u001b[0m\u001b[0m\n\u001b[0;32m      4\u001b[0m \u001b[0mtess\u001b[0m\u001b[1;33m.\u001b[0m\u001b[0mpytesseract\u001b[0m\u001b[1;33m.\u001b[0m\u001b[0mtesseract_cmd\u001b[0m\u001b[1;33m=\u001b[0m\u001b[1;34mr'C:\\Program Files\\Tesseract-OCR\\tesseract.exe'\u001b[0m\u001b[1;33m\u001b[0m\u001b[1;33m\u001b[0m\u001b[0m\n\u001b[1;32m----> 5\u001b[1;33m \u001b[0mimg\u001b[0m\u001b[1;33m=\u001b[0m\u001b[0mImage\u001b[0m\u001b[1;33m.\u001b[0m\u001b[0mopen\u001b[0m\u001b[1;33m(\u001b[0m\u001b[0mfile\u001b[0m\u001b[1;33m)\u001b[0m\u001b[1;33m\u001b[0m\u001b[1;33m\u001b[0m\u001b[0m\n\u001b[0m\u001b[0;32m      6\u001b[0m \u001b[0mimage_string\u001b[0m\u001b[1;33m=\u001b[0m\u001b[0mtess\u001b[0m\u001b[1;33m.\u001b[0m\u001b[0mimage_to_string\u001b[0m\u001b[1;33m(\u001b[0m\u001b[0mimg\u001b[0m\u001b[1;33m)\u001b[0m\u001b[1;33m\u001b[0m\u001b[1;33m\u001b[0m\u001b[0m\n\u001b[0;32m      7\u001b[0m \u001b[0mprint\u001b[0m\u001b[1;33m(\u001b[0m\u001b[0mimage_string\u001b[0m\u001b[1;33m)\u001b[0m\u001b[1;33m\u001b[0m\u001b[1;33m\u001b[0m\u001b[0m\n",
      "\u001b[1;32m~\\anaconda3\\lib\\site-packages\\PIL\\Image.py\u001b[0m in \u001b[0;36mopen\u001b[1;34m(fp, mode)\u001b[0m\n\u001b[0;32m   2928\u001b[0m     \u001b[1;32mfor\u001b[0m \u001b[0mmessage\u001b[0m \u001b[1;32min\u001b[0m \u001b[0maccept_warnings\u001b[0m\u001b[1;33m:\u001b[0m\u001b[1;33m\u001b[0m\u001b[1;33m\u001b[0m\u001b[0m\n\u001b[0;32m   2929\u001b[0m         \u001b[0mwarnings\u001b[0m\u001b[1;33m.\u001b[0m\u001b[0mwarn\u001b[0m\u001b[1;33m(\u001b[0m\u001b[0mmessage\u001b[0m\u001b[1;33m)\u001b[0m\u001b[1;33m\u001b[0m\u001b[1;33m\u001b[0m\u001b[0m\n\u001b[1;32m-> 2930\u001b[1;33m     raise UnidentifiedImageError(\n\u001b[0m\u001b[0;32m   2931\u001b[0m         \u001b[1;34m\"cannot identify image file %r\"\u001b[0m \u001b[1;33m%\u001b[0m \u001b[1;33m(\u001b[0m\u001b[0mfilename\u001b[0m \u001b[1;32mif\u001b[0m \u001b[0mfilename\u001b[0m \u001b[1;32melse\u001b[0m \u001b[0mfp\u001b[0m\u001b[1;33m)\u001b[0m\u001b[1;33m\u001b[0m\u001b[1;33m\u001b[0m\u001b[0m\n\u001b[0;32m   2932\u001b[0m     )\n",
      "\u001b[1;31mUnidentifiedImageError\u001b[0m: cannot identify image file 'LOR_Sneh Anand.pdf'"
     ]
    }
   ],
   "source": [
    "from PIL import Image\n",
    "import pytesseract as tess\n",
    "file='LOR_Sneh Anand.pdf'\n",
    "tess.pytesseract.tesseract_cmd=r'C:\\Program Files\\Tesseract-OCR\\tesseract.exe'\n",
    "img=Image.open(file)\n",
    "image_string=tess.image_to_string(img)\n",
    "print(image_string)"
   ]
  },
  {
   "cell_type": "code",
   "execution_count": null,
   "metadata": {},
   "outputs": [],
   "source": []
  }
 ],
 "metadata": {
  "kernelspec": {
   "display_name": "Python 3",
   "language": "python",
   "name": "python3"
  },
  "language_info": {
   "codemirror_mode": {
    "name": "ipython",
    "version": 3
   },
   "file_extension": ".py",
   "mimetype": "text/x-python",
   "name": "python",
   "nbconvert_exporter": "python",
   "pygments_lexer": "ipython3",
   "version": "3.8.3"
  }
 },
 "nbformat": 4,
 "nbformat_minor": 4
}
